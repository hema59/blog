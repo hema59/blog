{
 "cells": [
  {
   "cell_type": "markdown",
   "metadata": {},
   "source": [
    "# Polynomial Regression Explanation"
   ]
  },
  {
   "cell_type": "code",
   "execution_count": 122,
   "metadata": {},
   "outputs": [],
   "source": [
    "import numpy as np\n",
    "import matplotlib.pyplot as plt\n",
    "import seaborn as sns\n",
    "\n",
    "from sklearn.linear_model import LinearRegression\n",
    "from sklearn.model_selection import train_test_split\n",
    "from sklearn.datasets.samples_generator import make_blobs\n",
    "from sklearn.metrics import r2_score, accuracy_score, roc_auc_score\n",
    "from sklearn.metrics import mean_squared_error\n",
    "from sklearn.preprocessing import LabelEncoder\n"
   ]
  },
  {
   "cell_type": "code",
   "execution_count": 67,
   "metadata": {},
   "outputs": [
    {
     "data": {
      "text/plain": [
       "<Figure size 432x288 with 0 Axes>"
      ]
     },
     "metadata": {},
     "output_type": "display_data"
    }
   ],
   "source": [
    "#create the regression model\n",
    "from sklearn.datasets import make_regression\n",
    "from sklearn.preprocessing import PolynomialFeatures\n",
    "\n",
    "plt.figure()\n",
    "X, y = make_regression(n_samples = 50, n_features=1,\n",
    "                            n_informative=2, bias = 20,\n",
    "                            noise = 30, random_state=2)\n"
   ]
  },
  {
   "cell_type": "code",
   "execution_count": 79,
   "metadata": {},
   "outputs": [
    {
     "name": "stdout",
     "output_type": "stream",
     "text": [
      "Linear Regression\n",
      "Coeffecient:  [35.89470225]\n",
      "Intercept:  21.68504478627754\n",
      "\n",
      "Polynomial Regression\n",
      "Coeffecient:  [36.63706385  4.84618052]\n",
      "Intercept:  10.581908496118023\n"
     ]
    },
    {
     "data": {
      "image/png": "[encoded data removed]",
      "text/plain": [
       "<Figure size 432x288 with 1 Axes>"
      ]
     },
     "metadata": {
      "needs_background": "light"
     },
     "output_type": "display_data"
    }
   ],
   "source": [
    "X_train, X_test, y_train, y_test = train_test_split(X, y, random_state =2)\n",
    "\n",
    "reg = LinearRegression().fit(X_train, y_train)\n",
    "coeffecient = reg.coef_\n",
    "\n",
    "#find regressor intercept\n",
    "intercept = reg.intercept_\n",
    "print('Linear Regression\\nCoeffecient: ',coeffecient)\n",
    "print('Intercept: ', intercept)\n",
    "\n",
    "#polynomial reg model\n",
    "poly = PolynomialFeatures(degree = 2, include_bias = False)\n",
    "X_poly = poly.fit_transform(X)\n",
    "#poly.fit(X_poly, y)\n",
    "\n",
    "Poly_reg = LinearRegression().fit(X_poly, y)\n",
    "y_poly = Poly_reg.predict(X_poly)\n",
    "print('\\nPolynomial Regression\\nCoeffecient: ',Poly_reg.coef_)\n",
    "print('Intercept: ', Poly_reg.intercept_)\n",
    "\n",
    "plt.xlim(-3,3)\n",
    "\n",
    "plt.plot(X, coeffecient*X+ intercept,'r' )\n",
    "plt.plot(X, y_poly, 'y')\n",
    "plt.scatter(X, y, marker= 'o', s=50)\n",
    "plt.xlabel('X')\n",
    "plt.ylabel('Y')\n",
    "plt.title('Fig 2 : Linear Vs Polynomial Regression')\n",
    "\n",
    "plt.show()"
   ]
  },
  {
   "cell_type": "markdown",
   "metadata": {},
   "source": [
    "# Case study\n",
    "\n",
    "Let's look at the covid-19 predictors data set and estimate the recovery rate of a given country on a future date.\n",
    "\n",
    "\n",
    "[data source : https://www.kaggle.com/nightranger77/covid19-demographic-predictors]\n"
   ]
  },
  {
   "cell_type": "code",
   "execution_count": 86,
   "metadata": {},
   "outputs": [
    {
     "data": {
      "text/plain": [
       "(59759, 8)"
      ]
     },
     "execution_count": 86,
     "metadata": {},
     "output_type": "execute_result"
    }
   ],
   "source": [
    "import pandas as pd\n",
    "import os\n",
    "\n",
    "#finding path, ugh don't ask!\n",
    "path, file = os.path.split(os.path.abspath(\"covid_19_data.csv\"))\n",
    "path = path+'\\data\\\\'\n",
    "\n",
    "#loading data\n",
    "data = pd.read_csv(path+file)\n",
    "data.shape"
   ]
  },
  {
   "cell_type": "code",
   "execution_count": 87,
   "metadata": {},
   "outputs": [
    {
     "data": {
      "text/html": [
       "<div>\n",
       "<style scoped>\n",
       "    .dataframe tbody tr th:only-of-type {\n",
       "        vertical-align: middle;\n",
       "    }\n",
       "\n",
       "    .dataframe tbody tr th {\n",
       "        vertical-align: top;\n",
       "    }\n",
       "\n",
       "    .dataframe thead th {\n",
       "        text-align: right;\n",
       "    }\n",
       "</style>\n",
       "<table border=\"1\" class=\"dataframe\">\n",
       "  <thead>\n",
       "    <tr style=\"text-align: right;\">\n",
       "      <th></th>\n",
       "      <th>ObservationDate</th>\n",
       "      <th>Country</th>\n",
       "      <th>Confirmed</th>\n",
       "      <th>Deaths</th>\n",
       "      <th>Recovered</th>\n",
       "    </tr>\n",
       "  </thead>\n",
       "  <tbody>\n",
       "    <tr>\n",
       "      <th>0</th>\n",
       "      <td>2020-01-22</td>\n",
       "      <td>Mainland China</td>\n",
       "      <td>1.0</td>\n",
       "      <td>0.0</td>\n",
       "      <td>0.0</td>\n",
       "    </tr>\n",
       "    <tr>\n",
       "      <th>1</th>\n",
       "      <td>2020-01-22</td>\n",
       "      <td>Mainland China</td>\n",
       "      <td>14.0</td>\n",
       "      <td>0.0</td>\n",
       "      <td>0.0</td>\n",
       "    </tr>\n",
       "    <tr>\n",
       "      <th>2</th>\n",
       "      <td>2020-01-22</td>\n",
       "      <td>Mainland China</td>\n",
       "      <td>6.0</td>\n",
       "      <td>0.0</td>\n",
       "      <td>0.0</td>\n",
       "    </tr>\n",
       "    <tr>\n",
       "      <th>3</th>\n",
       "      <td>2020-01-22</td>\n",
       "      <td>Mainland China</td>\n",
       "      <td>1.0</td>\n",
       "      <td>0.0</td>\n",
       "      <td>0.0</td>\n",
       "    </tr>\n",
       "    <tr>\n",
       "      <th>4</th>\n",
       "      <td>2020-01-22</td>\n",
       "      <td>Mainland China</td>\n",
       "      <td>0.0</td>\n",
       "      <td>0.0</td>\n",
       "      <td>0.0</td>\n",
       "    </tr>\n",
       "  </tbody>\n",
       "</table>\n",
       "</div>"
      ],
      "text/plain": [
       "  ObservationDate         Country  Confirmed  Deaths  Recovered\n",
       "0      2020-01-22  Mainland China        1.0     0.0        0.0\n",
       "1      2020-01-22  Mainland China       14.0     0.0        0.0\n",
       "2      2020-01-22  Mainland China        6.0     0.0        0.0\n",
       "3      2020-01-22  Mainland China        1.0     0.0        0.0\n",
       "4      2020-01-22  Mainland China        0.0     0.0        0.0"
      ]
     },
     "execution_count": 87,
     "metadata": {},
     "output_type": "execute_result"
    }
   ],
   "source": [
    "#rename pesky column names\n",
    "data.rename(columns = {'Province/State': 'State','Country/Region':'Country'}, inplace=True)\n",
    "\n",
    "#dropping unneccessary columns\n",
    "data.drop(labels=['SNo','Last Update','State'], axis=1, inplace=True)\n",
    "\n",
    "#changing dtype of date column\n",
    "data['ObservationDate']=pd.to_datetime(data['ObservationDate'])\n",
    "data.head()"
   ]
  },
  {
   "cell_type": "code",
   "execution_count": 105,
   "metadata": {},
   "outputs": [],
   "source": [
    "#grouping stats for each day\n",
    "grouped = data.groupby(['Country','ObservationDate'])\n",
    "\n",
    "#creating new df\n",
    "df = pd.DataFrame(columns =data.columns)\n",
    "i=0\n",
    "country =[]\n",
    "date=[]\n",
    "conf =[]\n",
    "rec=[]\n",
    "dead =[]\n",
    "for groupinfo, stats in grouped:\n",
    "    country.append(groupinfo[0])\n",
    "    date.append(groupinfo[1])\n",
    "    rec.append(np.sum(stats['Recovered']))\n",
    "    dead.append(np.sum(stats['Deaths']))\n",
    "    conf.append(np.sum(stats['Confirmed']))\n",
    "\n",
    "df['ObservationDate'] =date \n",
    "df['Country'] = country\n",
    "df['Confirmed'] = conf\n",
    "df['Deaths'] = dead\n",
    "df['Recovered']= rec"
   ]
  },
  {
   "cell_type": "code",
   "execution_count": 106,
   "metadata": {},
   "outputs": [
    {
     "name": "stdout",
     "output_type": "stream",
     "text": [
      "(24201, 5)\n"
     ]
    },
    {
     "data": {
      "text/html": [
       "<div>\n",
       "<style scoped>\n",
       "    .dataframe tbody tr th:only-of-type {\n",
       "        vertical-align: middle;\n",
       "    }\n",
       "\n",
       "    .dataframe tbody tr th {\n",
       "        vertical-align: top;\n",
       "    }\n",
       "\n",
       "    .dataframe thead th {\n",
       "        text-align: right;\n",
       "    }\n",
       "</style>\n",
       "<table border=\"1\" class=\"dataframe\">\n",
       "  <thead>\n",
       "    <tr style=\"text-align: right;\">\n",
       "      <th></th>\n",
       "      <th>ObservationDate</th>\n",
       "      <th>Country</th>\n",
       "      <th>Confirmed</th>\n",
       "      <th>Deaths</th>\n",
       "      <th>Recovered</th>\n",
       "    </tr>\n",
       "  </thead>\n",
       "  <tbody>\n",
       "    <tr>\n",
       "      <th>0</th>\n",
       "      <td>2020-02-28</td>\n",
       "      <td>Azerbaijan</td>\n",
       "      <td>1.0</td>\n",
       "      <td>0.0</td>\n",
       "      <td>0.0</td>\n",
       "    </tr>\n",
       "    <tr>\n",
       "      <th>1</th>\n",
       "      <td>2020-03-10</td>\n",
       "      <td>('St. Martin',)</td>\n",
       "      <td>2.0</td>\n",
       "      <td>0.0</td>\n",
       "      <td>0.0</td>\n",
       "    </tr>\n",
       "    <tr>\n",
       "      <th>2</th>\n",
       "      <td>2020-02-24</td>\n",
       "      <td>Afghanistan</td>\n",
       "      <td>1.0</td>\n",
       "      <td>0.0</td>\n",
       "      <td>0.0</td>\n",
       "    </tr>\n",
       "    <tr>\n",
       "      <th>3</th>\n",
       "      <td>2020-02-25</td>\n",
       "      <td>Afghanistan</td>\n",
       "      <td>1.0</td>\n",
       "      <td>0.0</td>\n",
       "      <td>0.0</td>\n",
       "    </tr>\n",
       "    <tr>\n",
       "      <th>4</th>\n",
       "      <td>2020-02-26</td>\n",
       "      <td>Afghanistan</td>\n",
       "      <td>1.0</td>\n",
       "      <td>0.0</td>\n",
       "      <td>0.0</td>\n",
       "    </tr>\n",
       "    <tr>\n",
       "      <th>...</th>\n",
       "      <td>...</td>\n",
       "      <td>...</td>\n",
       "      <td>...</td>\n",
       "      <td>...</td>\n",
       "      <td>...</td>\n",
       "    </tr>\n",
       "    <tr>\n",
       "      <th>24196</th>\n",
       "      <td>2020-03-12</td>\n",
       "      <td>occupied Palestinian territory</td>\n",
       "      <td>0.0</td>\n",
       "      <td>0.0</td>\n",
       "      <td>0.0</td>\n",
       "    </tr>\n",
       "    <tr>\n",
       "      <th>24197</th>\n",
       "      <td>2020-03-14</td>\n",
       "      <td>occupied Palestinian territory</td>\n",
       "      <td>0.0</td>\n",
       "      <td>0.0</td>\n",
       "      <td>0.0</td>\n",
       "    </tr>\n",
       "    <tr>\n",
       "      <th>24198</th>\n",
       "      <td>2020-03-15</td>\n",
       "      <td>occupied Palestinian territory</td>\n",
       "      <td>0.0</td>\n",
       "      <td>0.0</td>\n",
       "      <td>0.0</td>\n",
       "    </tr>\n",
       "    <tr>\n",
       "      <th>24199</th>\n",
       "      <td>2020-03-16</td>\n",
       "      <td>occupied Palestinian territory</td>\n",
       "      <td>0.0</td>\n",
       "      <td>0.0</td>\n",
       "      <td>0.0</td>\n",
       "    </tr>\n",
       "    <tr>\n",
       "      <th>24200</th>\n",
       "      <td>2020-03-17</td>\n",
       "      <td>occupied Palestinian territory</td>\n",
       "      <td>0.0</td>\n",
       "      <td>0.0</td>\n",
       "      <td>0.0</td>\n",
       "    </tr>\n",
       "  </tbody>\n",
       "</table>\n",
       "<p>24201 rows × 5 columns</p>\n",
       "</div>"
      ],
      "text/plain": [
       "      ObservationDate                         Country  Confirmed  Deaths  \\\n",
       "0          2020-02-28                      Azerbaijan        1.0     0.0   \n",
       "1          2020-03-10                 ('St. Martin',)        2.0     0.0   \n",
       "2          2020-02-24                     Afghanistan        1.0     0.0   \n",
       "3          2020-02-25                     Afghanistan        1.0     0.0   \n",
       "4          2020-02-26                     Afghanistan        1.0     0.0   \n",
       "...               ...                             ...        ...     ...   \n",
       "24196      2020-03-12  occupied Palestinian territory        0.0     0.0   \n",
       "24197      2020-03-14  occupied Palestinian territory        0.0     0.0   \n",
       "24198      2020-03-15  occupied Palestinian territory        0.0     0.0   \n",
       "24199      2020-03-16  occupied Palestinian territory        0.0     0.0   \n",
       "24200      2020-03-17  occupied Palestinian territory        0.0     0.0   \n",
       "\n",
       "       Recovered  \n",
       "0            0.0  \n",
       "1            0.0  \n",
       "2            0.0  \n",
       "3            0.0  \n",
       "4            0.0  \n",
       "...          ...  \n",
       "24196        0.0  \n",
       "24197        0.0  \n",
       "24198        0.0  \n",
       "24199        0.0  \n",
       "24200        0.0  \n",
       "\n",
       "[24201 rows x 5 columns]"
      ]
     },
     "execution_count": 106,
     "metadata": {},
     "output_type": "execute_result"
    }
   ],
   "source": [
    "print(df.shape)\n",
    "df"
   ]
  },
  {
   "cell_type": "code",
   "execution_count": 112,
   "metadata": {},
   "outputs": [
    {
     "data": {
      "text/plain": [
       "<matplotlib.axes._subplots.AxesSubplot at 0x17a7ae9bf60>"
      ]
     },
     "execution_count": 112,
     "metadata": {},
     "output_type": "execute_result"
    },
    {
     "data": {
      "image/png": "[encoded data removed]",
      "text/plain": [
       "<Figure size 432x288 with 1 Axes>"
      ]
     },
     "metadata": {
      "needs_background": "light"
     },
     "output_type": "display_data"
    }
   ],
   "source": [
    "#just checking to see if the data has potential for polynomial model, by the looks of it, oh yes!\n",
    "df[df['Country']=='Mainland China']['Recovered'].plot()"
   ]
  },
  {
   "cell_type": "code",
   "execution_count": 126,
   "metadata": {},
   "outputs": [
    {
     "data": {
      "text/html": [
       "<div>\n",
       "<style scoped>\n",
       "    .dataframe tbody tr th:only-of-type {\n",
       "        vertical-align: middle;\n",
       "    }\n",
       "\n",
       "    .dataframe tbody tr th {\n",
       "        vertical-align: top;\n",
       "    }\n",
       "\n",
       "    .dataframe thead th {\n",
       "        text-align: right;\n",
       "    }\n",
       "</style>\n",
       "<table border=\"1\" class=\"dataframe\">\n",
       "  <thead>\n",
       "    <tr style=\"text-align: right;\">\n",
       "      <th></th>\n",
       "      <th>ObservationDate</th>\n",
       "      <th>Country</th>\n",
       "      <th>Confirmed</th>\n",
       "      <th>Deaths</th>\n",
       "      <th>Recovered</th>\n",
       "    </tr>\n",
       "  </thead>\n",
       "  <tbody>\n",
       "    <tr>\n",
       "      <th>0</th>\n",
       "      <td>2020-02-28</td>\n",
       "      <td>0</td>\n",
       "      <td>1.0</td>\n",
       "      <td>0.0</td>\n",
       "      <td>0.0</td>\n",
       "    </tr>\n",
       "    <tr>\n",
       "      <th>1</th>\n",
       "      <td>2020-03-10</td>\n",
       "      <td>1</td>\n",
       "      <td>2.0</td>\n",
       "      <td>0.0</td>\n",
       "      <td>0.0</td>\n",
       "    </tr>\n",
       "    <tr>\n",
       "      <th>2</th>\n",
       "      <td>2020-02-24</td>\n",
       "      <td>2</td>\n",
       "      <td>1.0</td>\n",
       "      <td>0.0</td>\n",
       "      <td>0.0</td>\n",
       "    </tr>\n",
       "    <tr>\n",
       "      <th>3</th>\n",
       "      <td>2020-02-25</td>\n",
       "      <td>2</td>\n",
       "      <td>1.0</td>\n",
       "      <td>0.0</td>\n",
       "      <td>0.0</td>\n",
       "    </tr>\n",
       "    <tr>\n",
       "      <th>4</th>\n",
       "      <td>2020-02-26</td>\n",
       "      <td>2</td>\n",
       "      <td>1.0</td>\n",
       "      <td>0.0</td>\n",
       "      <td>0.0</td>\n",
       "    </tr>\n",
       "  </tbody>\n",
       "</table>\n",
       "</div>"
      ],
      "text/plain": [
       "  ObservationDate  Country  Confirmed  Deaths  Recovered\n",
       "0      2020-02-28        0        1.0     0.0        0.0\n",
       "1      2020-03-10        1        2.0     0.0        0.0\n",
       "2      2020-02-24        2        1.0     0.0        0.0\n",
       "3      2020-02-25        2        1.0     0.0        0.0\n",
       "4      2020-02-26        2        1.0     0.0        0.0"
      ]
     },
     "execution_count": 126,
     "metadata": {},
     "output_type": "execute_result"
    }
   ],
   "source": [
    "#create label encoder instance\n",
    "le = LabelEncoder()\n",
    "\n",
    "#fit into labelencoder and get labels\n",
    "labels = le.fit_transform(df['Country'])\n",
    "\n",
    "#set labels to country\n",
    "df['Country'] = labels\n",
    "df.head()"
   ]
  },
  {
   "cell_type": "code",
   "execution_count": 127,
   "metadata": {},
   "outputs": [
    {
     "data": {
      "text/plain": [
       "((19360, 3), (4841, 3))"
      ]
     },
     "execution_count": 127,
     "metadata": {},
     "output_type": "execute_result"
    }
   ],
   "source": [
    "#splitting data\n",
    "features = ['Country','Confirmed','Deaths']\n",
    "target = 'Recovered'\n",
    "X_train, X_test, y_train, y_test = train_test_split(df[features], df[target], test_size =0.2, random_state=0)\n",
    "X_train.shape, X_test.shape"
   ]
  },
  {
   "cell_type": "code",
   "execution_count": 133,
   "metadata": {},
   "outputs": [
    {
     "name": "stdout",
     "output_type": "stream",
     "text": [
      "Mean Squared Error: 190869184.0756124\n",
      "R-squared Error: 0.8984295871261034\n"
     ]
    }
   ],
   "source": [
    "#create polynomial features\n",
    "poly = PolynomialFeatures(degree =2 )\n",
    "\n",
    "#fit X_train\n",
    "X_poly = poly.fit_transform(X_train)\n",
    "\n",
    "#create and fit into linear model\n",
    "poly_reg = LinearRegression().fit(X_poly, y_train)\n",
    "\n",
    "#make predictions\n",
    "y_pred = poly_reg.predict(poly.transform(X_test))\n",
    "\n",
    "#validate\n",
    "mse = mean_squared_error(y_test, y_pred)\n",
    "r2 = r2_score(y_test, y_pred)\n",
    "\n",
    "print('Mean Squared Error: {}'.format(mse))\n",
    "print('R-squared Error: {}'.format(r2))"
   ]
  }
 ],
 "metadata": {
  "kernelspec": {
   "display_name": "Python 3",
   "language": "python",
   "name": "python3"
  },
  "language_info": {
   "codemirror_mode": {
    "name": "ipython",
    "version": 3
   },
   "file_extension": ".py",
   "mimetype": "text/x-python",
   "name": "python",
   "nbconvert_exporter": "python",
   "pygments_lexer": "ipython3",
   "version": "3.6.9"
  }
 },
 "nbformat": 4,
 "nbformat_minor": 2
}
