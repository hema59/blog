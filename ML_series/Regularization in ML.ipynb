{
 "cells": [
  {
   "cell_type": "code",
   "execution_count": 77,
   "metadata": {},
   "outputs": [],
   "source": [
    "import os\n",
    "\n",
    "from sklearn.linear_model import LinearRegression\n",
    "from sklearn.model_selection import train_test_split,validation_curve,cross_val_score\n",
    "from sklearn.metrics import r2_score, accuracy_score, roc_auc_score\n",
    "from sklearn.metrics import mean_squared_error, confusion_matrix\n",
    "from sklearn.preprocessing import LabelEncoder\n",
    "from sklearn.preprocessing import PolynomialFeatures\n",
    "from sklearn.preprocessing import MinMaxScaler\n",
    "\n",
    "import matplotlib.pyplot as plt\n",
    "import numpy as np\n",
    "import pandas as pd\n",
    "import seaborn as sns\n",
    "%matplotlib inline"
   ]
  },
  {
   "cell_type": "markdown",
   "metadata": {},
   "source": [
    "# Normalization and Standardization\n",
    "\n",
    "**Normalization** : Scaling technique in which values are shifted and rescaled, so that they range between 0 and 1.\n",
    "\n",
    "\n",
    "**Standardization** : Scaling technique where the values are centered around the mean with unit standard deviation. "
   ]
  },
  {
   "cell_type": "code",
   "execution_count": 78,
   "metadata": {},
   "outputs": [
    {
     "data": {
      "text/plain": [
       "Text(0.5, 1.0, 'Scaled Data')"
      ]
     },
     "execution_count": 78,
     "metadata": {},
     "output_type": "execute_result"
    },
    {
     "data": {
      "text/plain": [
       "<Figure size 432x288 with 0 Axes>"
      ]
     },
     "metadata": {},
     "output_type": "display_data"
    },
    {
     "data": {
      "image/png": "[encoded data removed]",
      "text/plain": [
       "<Figure size 648x360 with 2 Axes>"
      ]
     },
     "metadata": {
      "needs_background": "light"
     },
     "output_type": "display_data"
    }
   ],
   "source": [
    "# using MinMaxScaler\n",
    "from sklearn.datasets import make_regression\n",
    "\n",
    "plt.figure()\n",
    "X, y = make_regression(n_samples = 50, n_features=1,\n",
    "                            n_informative=1, bias = 10.0,\n",
    "                            noise = 150, random_state=2)\n",
    "\n",
    "scaler = MinMaxScaler()\n",
    "X_scaled = scaler.fit_transform(X)\n",
    "\n",
    "fig, axes = plt.subplots(nrows=1, ncols=2, figsize=(9,5))\n",
    "axes[0].plot(X,'o',color='black')\n",
    "axes[1].plot(X_scaled,'o',color='black')\n",
    "axes[0].set_title(\"Original Data\")\n",
    "axes[1].set_title(\"Scaled Data\")\n"
   ]
  },
  {
   "cell_type": "code",
   "execution_count": 79,
   "metadata": {},
   "outputs": [],
   "source": [
    "#MaxAbsScaler\n",
    "from sklearn.preprocessing import MaxAbsScaler\n",
    "from sklearn.preprocessing import RobustScaler\n",
    "\n",
    "#scales to -1,1 range based on absolute maximum\n",
    "maxabs_scaler = MaxAbsScaler()\n",
    "X_maxabs_scaled = maxabs_scaler.fit_transform(X)\n",
    "\n",
    "#uses 1 to 3 quartiles\n",
    "robust_scaler = RobustScaler(quantile_range=(0.1,0.7))\n",
    "X_robust_scaled = robust_scaler.fit_transform(X)\n"
   ]
  },
  {
   "cell_type": "code",
   "execution_count": 80,
   "metadata": {},
   "outputs": [],
   "source": [
    "#standaridaztion\n",
    "\n",
    "from sklearn.preprocessing import StandardScaler\n",
    "scaler = StandardScaler()\n",
    "X_standardized = scaler.fit_transform(X)"
   ]
  },
  {
   "cell_type": "markdown",
   "metadata": {},
   "source": [
    "# Regularization on a Linear model\n",
    "\n",
    "Same case study as the Linear model. We're dealing with the Life Expectancy dataset. "
   ]
  },
  {
   "cell_type": "code",
   "execution_count": 81,
   "metadata": {},
   "outputs": [
    {
     "data": {
      "text/plain": [
       "array([ 0.06872815,  0.20987532, -0.38963129, -0.41021787, -0.11882873])"
      ]
     },
     "execution_count": 81,
     "metadata": {},
     "output_type": "execute_result"
    }
   ],
   "source": [
    "from sklearn.linear_model import Ridge, Lasso\n",
    "\n",
    "X, y = make_regression(n_samples = 50, n_features=1,\n",
    "                            n_informative=1, bias = 10.0,\n",
    "                            noise = 150, random_state=2)\n",
    "\n",
    "X_train, X_test, y_train, y_test = train_test_split(X,y,random_state=22, test_size=0.2)\n",
    "\n",
    "ridgeModel = Ridge(alpha=0.25)\n",
    "ridgeModel.fit(X_train, y_train)\n",
    "cross_val_score(ridgeModel,X,y,cv=5)"
   ]
  },
  {
   "cell_type": "code",
   "execution_count": 82,
   "metadata": {},
   "outputs": [
    {
     "data": {
      "text/plain": [
       "array([ 0.06865302,  0.20827315, -0.38892125, -0.41022888, -0.11931677])"
      ]
     },
     "execution_count": 82,
     "metadata": {},
     "output_type": "execute_result"
    }
   ],
   "source": [
    "lassoModel = Lasso(alpha=0.45)\n",
    "lassoModel.fit(X_train, y_train)\n",
    "cross_val_score(lassoModel,X,y,cv=5)"
   ]
  },
  {
   "cell_type": "code",
   "execution_count": 83,
   "metadata": {},
   "outputs": [],
   "source": [
    "#finding path, ugh don't ask!\n",
    "path, file = os.path.split(os.path.abspath(\"Life_Expectancy_Data.csv\"))\n",
    "path = path+'\\data\\\\'\n",
    "\n",
    "#loading data\n",
    "data = pd.read_csv(path+file)\n",
    "\n",
    "target = 'Life expectancy '\n",
    "cols = ['Life expectancy ',\n",
    "      'Alcohol', 'percentage expenditure', 'Hepatitis B',\n",
    "       ' BMI ',  'Polio', 'Total expenditure',\n",
    "       'Diphtheria ',  'GDP', \n",
    "       'Income composition of resources', 'Schooling']\n",
    "data.dropna(inplace=True)\n",
    "\n",
    "#splitting data\n",
    "X_train, X_test, y_train, y_test = train_test_split(data[cols[1:]], data[target], random_state = 2, test_size =0.2)\n",
    "\n",
    "#create model\n",
    "reg = LinearRegression().fit(X_train, y_train)\n",
    "\n",
    "#making predictions\n",
    "y_pred = reg.predict(X_test)"
   ]
  },
  {
   "cell_type": "markdown",
   "metadata": {},
   "source": [
    "## without regularization"
   ]
  },
  {
   "cell_type": "code",
   "execution_count": 84,
   "metadata": {},
   "outputs": [
    {
     "name": "stdout",
     "output_type": "stream",
     "text": [
      "Mean Squared Error: 28.989551051546545\n",
      "R-squared Error: 0.6542775615619447\n",
      "Cross validation Score:  [0.64104672 0.63257221 0.5829629  0.6613591  0.56388255]\n"
     ]
    }
   ],
   "source": [
    "#validate\n",
    "mse = mean_squared_error(y_test, y_pred)\n",
    "r2 = r2_score(y_test, y_pred)\n",
    "\n",
    "print('Mean Squared Error: {}'.format(mse))\n",
    "print('R-squared Error: {}'.format(r2))\n",
    "print('Cross validation Score: ',cross_val_score(reg, X_train, y_train, cv=5))"
   ]
  },
  {
   "cell_type": "markdown",
   "metadata": {},
   "source": [
    "## with Regularization"
   ]
  },
  {
   "cell_type": "code",
   "execution_count": 85,
   "metadata": {},
   "outputs": [
    {
     "name": "stdout",
     "output_type": "stream",
     "text": [
      "Mean Squared Error: 28.486574595573018\n",
      "R-squared Error: 0.6602759382365921\n",
      "Cross validation Score:  [0.61848939 0.61953047 0.59464991 0.64187089 0.56877419]\n"
     ]
    }
   ],
   "source": [
    "rmodel = Ridge(alpha=10).fit(X_train, y_train)\n",
    "r_pred = rmodel.predict(X_test)\n",
    "\n",
    "mse = mean_squared_error(y_test, r_pred)\n",
    "r2 = r2_score(y_test, r_pred)\n",
    "\n",
    "print('Mean Squared Error: {}'.format(mse))\n",
    "print('R-squared Error: {}'.format(r2))\n",
    "print('Cross validation Score: ',cross_val_score(rmodel, X_train, y_train, cv=5))"
   ]
  }
 ],
 "metadata": {
  "kernelspec": {
   "display_name": "Python 3",
   "language": "python",
   "name": "python3"
  },
  "language_info": {
   "codemirror_mode": {
    "name": "ipython",
    "version": 3
   },
   "file_extension": ".py",
   "mimetype": "text/x-python",
   "name": "python",
   "nbconvert_exporter": "python",
   "pygments_lexer": "ipython3",
   "version": "3.6.9"
  }
 },
 "nbformat": 4,
 "nbformat_minor": 2
}
