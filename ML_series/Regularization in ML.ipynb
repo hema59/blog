{
 "cells": [
  {
   "cell_type": "code",
   "execution_count": 5,
   "metadata": {},
   "outputs": [],
   "source": [
    "import os\n",
    "\n",
    "from sklearn.linear_model import LinearRegression\n",
    "from sklearn.model_selection import train_test_split,validation_curve,cross_val_score\n",
    "from sklearn.datasets.samples_gen erator import make_blobs\n",
    "from sklearn.metrics import r2_score, accuracy_score, roc_auc_score\n",
    "from sklearn.metrics import mean_squared_error, confusion_matrix\n",
    "from sklearn.preprocessing import LabelEncoder\n",
    "from sklearn.preprocessing import PolynomialFeatures\n",
    "\n",
    "\n",
    "import matplotlib.pyplot as plt\n",
    "import numpy as np\n",
    "import pandas as pd\n",
    "import seaborn as sns\n",
    "%matplotlib inline"
   ]
  },
  {
   "cell_type": "markdown",
   "metadata": {},
   "source": [
    "# Regularization on a Linear model\n",
    "\n",
    "Same case study as the Linear model. We're dealing with the Life Expectancy dataset. "
   ]
  },
  {
   "cell_type": "code",
   "execution_count": 3,
   "metadata": {},
   "outputs": [],
   "source": [
    "#finding path, ugh don't ask!\n",
    "path, file = os.path.split(os.path.abspath(\"Life_Expectancy_Data.csv\"))\n",
    "path = path+'\\data\\\\'\n",
    "\n",
    "#loading data\n",
    "data = pd.read_csv(path+file)\n",
    "\n",
    "target = 'Life expectancy '\n",
    "cols = ['Life expectancy ',\n",
    "      'Alcohol', 'percentage expenditure', 'Hepatitis B',\n",
    "       ' BMI ',  'Polio', 'Total expenditure',\n",
    "       'Diphtheria ',  'GDP', \n",
    "       'Income composition of resources', 'Schooling']\n",
    "data.dropna(inplace=True)\n",
    "\n",
    "#splitting data\n",
    "X_train, X_test, y_train, y_test = train_test_split(data[cols[1:]], data[target], random_state = 2, test_size =0.2)\n",
    "\n",
    "#create model\n",
    "reg = LinearRegression().fit(X_train, y_train)\n",
    "\n",
    "#making predictions\n",
    "y_pred = reg.predict(X_test)"
   ]
  },
  {
   "cell_type": "markdown",
   "metadata": {},
   "source": [
    "## without regularization"
   ]
  },
  {
   "cell_type": "code",
   "execution_count": 4,
   "metadata": {},
   "outputs": [
    {
     "name": "stdout",
     "output_type": "stream",
     "text": [
      "Mean Squared Error: 28.989551051546545\n",
      "R-squared Error: 0.6542775615619447\n",
      "Cross validation Score:  [0.64104672 0.63257221 0.5829629  0.6613591  0.56388255]\n"
     ]
    }
   ],
   "source": [
    "#validate\n",
    "mse = mean_squared_error(y_test, y_pred)\n",
    "r2 = r2_score(y_test, y_pred)\n",
    "\n",
    "print('Mean Squared Error: {}'.format(mse))\n",
    "print('R-squared Error: {}'.format(r2))\n",
    "print('Cross validation Score: ',cross_val_score(reg, X_train, y_train, cv=5))"
   ]
  },
  {
   "cell_type": "markdown",
   "metadata": {},
   "source": [
    "## with Regularization"
   ]
  },
  {
   "cell_type": "code",
   "execution_count": null,
   "metadata": {},
   "outputs": [],
   "source": []
  },
  {
   "cell_type": "markdown",
   "metadata": {},
   "source": [
    "# Regularization on Polynomial Regression\n",
    "\n",
    "We'll use the same case study in Polynomial Regression with the COVID-19 dataset"
   ]
  },
  {
   "cell_type": "code",
   "execution_count": 6,
   "metadata": {},
   "outputs": [],
   "source": [
    "#finding path, ugh don't ask!\n",
    "path, file = os.path.split(os.path.abspath(\"covid_19_data.csv\"))\n",
    "path = path+'\\data\\\\'\n",
    "\n",
    "#loading data\n",
    "data = pd.read_csv(path+file)\n",
    "\n",
    "#rename pesky column names\n",
    "data.rename(columns = {'Province/State': 'State','Country/Region':'Country'}, inplace=True)\n",
    "\n",
    "#dropping unneccessary columns\n",
    "data.drop(labels=['SNo','Last Update','State'], axis=1, inplace=True)\n",
    "\n",
    "#changing dtype of date column\n",
    "data['ObservationDate']=pd.to_datetime(data['ObservationDate'])\n",
    "\n",
    "#grouping stats for each day\n",
    "grouped = data.groupby(['Country','ObservationDate'])\n",
    "\n",
    "#creating new df\n",
    "df = pd.DataFrame(columns =data.columns)\n",
    "country =[]\n",
    "date=[]\n",
    "conf =[]\n",
    "rec=[]\n",
    "dead =[]\n",
    "for groupinfo, stats in grouped:\n",
    "    country.append(groupinfo[0])\n",
    "    date.append(groupinfo[1])\n",
    "    rec.append(np.sum(stats['Recovered']))\n",
    "    dead.append(np.sum(stats['Deaths']))\n",
    "    conf.append(np.sum(stats['Confirmed']))\n",
    "\n",
    "df['ObservationDate'] =date \n",
    "df['Country'] = country\n",
    "df['Confirmed'] = conf\n",
    "df['Deaths'] = dead\n",
    "df['Recovered']= rec\n",
    "\n",
    "#create label encoder instance\n",
    "le = LabelEncoder()\n",
    "\n",
    "#fit into labelencoder and get labels\n",
    "labels = le.fit_transform(df['Country'])\n",
    "\n",
    "#set labels to country\n",
    "df['Country'] = labels\n",
    "\n",
    "#splitting data\n",
    "features = ['Country','Confirmed','Deaths']\n",
    "target = 'Recovered'\n",
    "X_train, X_test, y_train, y_test = train_test_split(df[features], df[target], test_size =0.2, random_state=0)\n",
    "\n",
    "#create polynomial features\n",
    "poly = PolynomialFeatures(degree =2 )\n",
    "\n",
    "#fit X_train\n",
    "X_poly = poly.fit_transform(X_train)\n",
    "\n",
    "#create and fit into linear model\n",
    "poly_reg = LinearRegression().fit(X_poly, y_train)\n",
    "\n",
    "#make predictions\n",
    "y_pred = poly_reg.predict(poly.transform(X_test))"
   ]
  },
  {
   "cell_type": "markdown",
   "metadata": {},
   "source": [
    "## Without regularization"
   ]
  },
  {
   "cell_type": "code",
   "execution_count": 7,
   "metadata": {},
   "outputs": [
    {
     "name": "stdout",
     "output_type": "stream",
     "text": [
      "Mean Squared Error: 190869184.0756124\n",
      "R-squared Error: 0.8984295871261034\n"
     ]
    }
   ],
   "source": [
    "#validate\n",
    "mse = mean_squared_error(y_test, y_pred)\n",
    "r2 = r2_score(y_test, y_pred)\n",
    "\n",
    "print('Mean Squared Error: {}'.format(mse))\n",
    "print('R-squared Error: {}'.format(r2))"
   ]
  },
  {
   "cell_type": "markdown",
   "metadata": {},
   "source": [
    "## With regularization"
   ]
  },
  {
   "cell_type": "code",
   "execution_count": null,
   "metadata": {},
   "outputs": [],
   "source": []
  },
  {
   "cell_type": "code",
   "execution_count": null,
   "metadata": {},
   "outputs": [],
   "source": []
  },
  {
   "cell_type": "markdown",
   "metadata": {},
   "source": [
    "# Regularization on Logistic Model"
   ]
  },
  {
   "cell_type": "code",
   "execution_count": null,
   "metadata": {},
   "outputs": [],
   "source": []
  }
 ],
 "metadata": {
  "kernelspec": {
   "display_name": "Python 3",
   "language": "python",
   "name": "python3"
  },
  "language_info": {
   "codemirror_mode": {
    "name": "ipython",
    "version": 3
   },
   "file_extension": ".py",
   "mimetype": "text/x-python",
   "name": "python",
   "nbconvert_exporter": "python",
   "pygments_lexer": "ipython3",
   "version": "3.6.9"
  }
 },
 "nbformat": 4,
 "nbformat_minor": 2
}
